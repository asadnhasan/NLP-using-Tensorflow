{
  "nbformat": 4,
  "nbformat_minor": 0,
  "metadata": {
    "colab": {
      "provenance": [],
      "authorship_tag": "ABX9TyMPGpd3TQeaqEqNDI73UjSE",
      "include_colab_link": true
    },
    "kernelspec": {
      "name": "python3",
      "display_name": "Python 3"
    },
    "language_info": {
      "name": "python"
    },
    "accelerator": "TPU"
  },
  "cells": [
    {
      "cell_type": "markdown",
      "metadata": {
        "id": "view-in-github",
        "colab_type": "text"
      },
      "source": [
        "<a href=\"https://colab.research.google.com/github/asadnhasan/NLP-using-Tensorflow/blob/main/Predicting_Text_with_Tensorflow.ipynb\" target=\"_parent\"><img src=\"https://colab.research.google.com/assets/colab-badge.svg\" alt=\"Open In Colab\"/></a>"
      ]
    },
    {
      "cell_type": "code",
      "execution_count": 1,
      "metadata": {
        "id": "lyQh_RseOufw"
      },
      "outputs": [],
      "source": [
        "import requests\n",
        "import tensorflow as tf\n",
        "from tensorflow.keras.preprocessing.sequence import pad_sequences\n",
        "from tensorflow.keras.layers import Embedding, LSTM, Dense, Bidirectional\n",
        "from tensorflow.keras.preprocessing.text import Tokenizer\n",
        "from tensorflow.keras.models import Sequential\n",
        "from tensorflow.keras.optimizers import Adam\n",
        "import numpy as np"
      ]
    },
    {
      "cell_type": "code",
      "source": [
        "from google.colab import files\n",
        "uploaded_file = files.upload()"
      ],
      "metadata": {
        "colab": {
          "base_uri": "https://localhost:8080/",
          "height": 73
        },
        "id": "MH0FBm70PzS-",
        "outputId": "5c6e90d6-12ed-4446-f66f-47c17f46c599"
      },
      "execution_count": 2,
      "outputs": [
        {
          "output_type": "display_data",
          "data": {
            "text/plain": [
              "<IPython.core.display.HTML object>"
            ],
            "text/html": [
              "\n",
              "     <input type=\"file\" id=\"files-aae69480-e300-4161-80f6-f8e3081f4c16\" name=\"files[]\" multiple disabled\n",
              "        style=\"border:none\" />\n",
              "     <output id=\"result-aae69480-e300-4161-80f6-f8e3081f4c16\">\n",
              "      Upload widget is only available when the cell has been executed in the\n",
              "      current browser session. Please rerun this cell to enable.\n",
              "      </output>\n",
              "      <script>// Copyright 2017 Google LLC\n",
              "//\n",
              "// Licensed under the Apache License, Version 2.0 (the \"License\");\n",
              "// you may not use this file except in compliance with the License.\n",
              "// You may obtain a copy of the License at\n",
              "//\n",
              "//      http://www.apache.org/licenses/LICENSE-2.0\n",
              "//\n",
              "// Unless required by applicable law or agreed to in writing, software\n",
              "// distributed under the License is distributed on an \"AS IS\" BASIS,\n",
              "// WITHOUT WARRANTIES OR CONDITIONS OF ANY KIND, either express or implied.\n",
              "// See the License for the specific language governing permissions and\n",
              "// limitations under the License.\n",
              "\n",
              "/**\n",
              " * @fileoverview Helpers for google.colab Python module.\n",
              " */\n",
              "(function(scope) {\n",
              "function span(text, styleAttributes = {}) {\n",
              "  const element = document.createElement('span');\n",
              "  element.textContent = text;\n",
              "  for (const key of Object.keys(styleAttributes)) {\n",
              "    element.style[key] = styleAttributes[key];\n",
              "  }\n",
              "  return element;\n",
              "}\n",
              "\n",
              "// Max number of bytes which will be uploaded at a time.\n",
              "const MAX_PAYLOAD_SIZE = 100 * 1024;\n",
              "\n",
              "function _uploadFiles(inputId, outputId) {\n",
              "  const steps = uploadFilesStep(inputId, outputId);\n",
              "  const outputElement = document.getElementById(outputId);\n",
              "  // Cache steps on the outputElement to make it available for the next call\n",
              "  // to uploadFilesContinue from Python.\n",
              "  outputElement.steps = steps;\n",
              "\n",
              "  return _uploadFilesContinue(outputId);\n",
              "}\n",
              "\n",
              "// This is roughly an async generator (not supported in the browser yet),\n",
              "// where there are multiple asynchronous steps and the Python side is going\n",
              "// to poll for completion of each step.\n",
              "// This uses a Promise to block the python side on completion of each step,\n",
              "// then passes the result of the previous step as the input to the next step.\n",
              "function _uploadFilesContinue(outputId) {\n",
              "  const outputElement = document.getElementById(outputId);\n",
              "  const steps = outputElement.steps;\n",
              "\n",
              "  const next = steps.next(outputElement.lastPromiseValue);\n",
              "  return Promise.resolve(next.value.promise).then((value) => {\n",
              "    // Cache the last promise value to make it available to the next\n",
              "    // step of the generator.\n",
              "    outputElement.lastPromiseValue = value;\n",
              "    return next.value.response;\n",
              "  });\n",
              "}\n",
              "\n",
              "/**\n",
              " * Generator function which is called between each async step of the upload\n",
              " * process.\n",
              " * @param {string} inputId Element ID of the input file picker element.\n",
              " * @param {string} outputId Element ID of the output display.\n",
              " * @return {!Iterable<!Object>} Iterable of next steps.\n",
              " */\n",
              "function* uploadFilesStep(inputId, outputId) {\n",
              "  const inputElement = document.getElementById(inputId);\n",
              "  inputElement.disabled = false;\n",
              "\n",
              "  const outputElement = document.getElementById(outputId);\n",
              "  outputElement.innerHTML = '';\n",
              "\n",
              "  const pickedPromise = new Promise((resolve) => {\n",
              "    inputElement.addEventListener('change', (e) => {\n",
              "      resolve(e.target.files);\n",
              "    });\n",
              "  });\n",
              "\n",
              "  const cancel = document.createElement('button');\n",
              "  inputElement.parentElement.appendChild(cancel);\n",
              "  cancel.textContent = 'Cancel upload';\n",
              "  const cancelPromise = new Promise((resolve) => {\n",
              "    cancel.onclick = () => {\n",
              "      resolve(null);\n",
              "    };\n",
              "  });\n",
              "\n",
              "  // Wait for the user to pick the files.\n",
              "  const files = yield {\n",
              "    promise: Promise.race([pickedPromise, cancelPromise]),\n",
              "    response: {\n",
              "      action: 'starting',\n",
              "    }\n",
              "  };\n",
              "\n",
              "  cancel.remove();\n",
              "\n",
              "  // Disable the input element since further picks are not allowed.\n",
              "  inputElement.disabled = true;\n",
              "\n",
              "  if (!files) {\n",
              "    return {\n",
              "      response: {\n",
              "        action: 'complete',\n",
              "      }\n",
              "    };\n",
              "  }\n",
              "\n",
              "  for (const file of files) {\n",
              "    const li = document.createElement('li');\n",
              "    li.append(span(file.name, {fontWeight: 'bold'}));\n",
              "    li.append(span(\n",
              "        `(${file.type || 'n/a'}) - ${file.size} bytes, ` +\n",
              "        `last modified: ${\n",
              "            file.lastModifiedDate ? file.lastModifiedDate.toLocaleDateString() :\n",
              "                                    'n/a'} - `));\n",
              "    const percent = span('0% done');\n",
              "    li.appendChild(percent);\n",
              "\n",
              "    outputElement.appendChild(li);\n",
              "\n",
              "    const fileDataPromise = new Promise((resolve) => {\n",
              "      const reader = new FileReader();\n",
              "      reader.onload = (e) => {\n",
              "        resolve(e.target.result);\n",
              "      };\n",
              "      reader.readAsArrayBuffer(file);\n",
              "    });\n",
              "    // Wait for the data to be ready.\n",
              "    let fileData = yield {\n",
              "      promise: fileDataPromise,\n",
              "      response: {\n",
              "        action: 'continue',\n",
              "      }\n",
              "    };\n",
              "\n",
              "    // Use a chunked sending to avoid message size limits. See b/62115660.\n",
              "    let position = 0;\n",
              "    do {\n",
              "      const length = Math.min(fileData.byteLength - position, MAX_PAYLOAD_SIZE);\n",
              "      const chunk = new Uint8Array(fileData, position, length);\n",
              "      position += length;\n",
              "\n",
              "      const base64 = btoa(String.fromCharCode.apply(null, chunk));\n",
              "      yield {\n",
              "        response: {\n",
              "          action: 'append',\n",
              "          file: file.name,\n",
              "          data: base64,\n",
              "        },\n",
              "      };\n",
              "\n",
              "      let percentDone = fileData.byteLength === 0 ?\n",
              "          100 :\n",
              "          Math.round((position / fileData.byteLength) * 100);\n",
              "      percent.textContent = `${percentDone}% done`;\n",
              "\n",
              "    } while (position < fileData.byteLength);\n",
              "  }\n",
              "\n",
              "  // All done.\n",
              "  yield {\n",
              "    response: {\n",
              "      action: 'complete',\n",
              "    }\n",
              "  };\n",
              "}\n",
              "\n",
              "scope.google = scope.google || {};\n",
              "scope.google.colab = scope.google.colab || {};\n",
              "scope.google.colab._files = {\n",
              "  _uploadFiles,\n",
              "  _uploadFilesContinue,\n",
              "};\n",
              "})(self);\n",
              "</script> "
            ]
          },
          "metadata": {}
        },
        {
          "output_type": "stream",
          "name": "stdout",
          "text": [
            "Saving Syed Asad Contract 230123.pdf to Syed Asad Contract 230123.pdf\n"
          ]
        }
      ]
    },
    {
      "cell_type": "code",
      "source": [
        "!pip install PyMuPDF"
      ],
      "metadata": {
        "colab": {
          "base_uri": "https://localhost:8080/"
        },
        "id": "O30pCAUcSLb6",
        "outputId": "5b2852dc-c8d5-4a63-c88b-34f069299f41"
      },
      "execution_count": 3,
      "outputs": [
        {
          "output_type": "stream",
          "name": "stdout",
          "text": [
            "Collecting PyMuPDF\n",
            "  Downloading PyMuPDF-1.22.5-cp310-cp310-manylinux_2_17_x86_64.manylinux2014_x86_64.whl (14.1 MB)\n",
            "\u001b[2K     \u001b[90m━━━━━━━━━━━━━━━━━━━━━━━━━━━━━━━━━━━━━━━━\u001b[0m \u001b[32m14.1/14.1 MB\u001b[0m \u001b[31m26.7 MB/s\u001b[0m eta \u001b[36m0:00:00\u001b[0m\n",
            "\u001b[?25hInstalling collected packages: PyMuPDF\n",
            "Successfully installed PyMuPDF-1.22.5\n"
          ]
        }
      ]
    },
    {
      "cell_type": "code",
      "source": [
        "corpus = []  # Initialize an empty list to store page texts\n"
      ],
      "metadata": {
        "id": "nEA0OSY_S67G"
      },
      "execution_count": 10,
      "outputs": []
    },
    {
      "cell_type": "code",
      "source": [
        "import fitz  # PyMuPDF\n",
        "\n",
        "pdf_file_path = list(uploaded_file.keys())[0]\n",
        "pdf_document = fitz.open(pdf_file_path)\n",
        "\n",
        "# Loop through pages and extract text\n",
        "for page_num in range(pdf_document.page_count):\n",
        "    page = pdf_document.load_page(page_num)\n",
        "    text = page.get_text(\"text\")\n",
        "    print(f\"Page {page_num + 1}:\\n{text}\\n\")\n",
        "\n",
        "pdf_document.close()"
      ],
      "metadata": {
        "colab": {
          "base_uri": "https://localhost:8080/"
        },
        "id": "Je3VHBGAVE1u",
        "outputId": "0c253042-66c7-4ee4-c117-74b87f36e7f1"
      },
      "execution_count": 12,
      "outputs": [
        {
          "output_type": "stream",
          "name": "stdout",
          "text": [
            "Page 1:\n",
            "Form SMT/6 \n",
            " 1 | ©Peninsula Business Services Limited \n",
            "STATEMENT OF MAIN TERMS OF \n",
            "EMPLOYMENT \n",
            "This Statement, together with the Employee Handbook, forms part of your Contract of \n",
            "Employment (except where the contrary is expressly stated) and sets out particulars of the main \n",
            "terms on which Trusted Interactions Group Limited T/A Cymphony, The Dovecote, Crewe Hall \n",
            "Farm Buildings, Old Park Road, Crewe, CW1 5UE \n",
            " \n",
            "Employs: Syed Asad \n",
            " \n",
            "Your employment began on 23rd January 2023. No previous employment counts as part of your period of \n",
            "continuous employment. \n",
            " \n",
            "JOB TITLE    \n",
            "You are employed as Homeworking Contact Centre Agent and your duties will be as advised by the \n",
            "Directors and the Office Manager.  Your duties may be modified from time to time to suit the needs of \n",
            "the business.  \n",
            " \n",
            "PROBATIONARY PERIOD \n",
            "Your employment is subject to a probationary period of 3 months. During this period your work \n",
            "performance and general suitability will be assessed and, if it is satisfactory, your employment will \n",
            "continue. However, if your work performance is not up to the required standard, or you are considered to \n",
            "be generally unsuitable, we may either take remedial action (which may include the extension of your \n",
            "probationary period) or terminate your employment at any time. You will be informed of the outcome of \n",
            "your probationary period by your line manager and you should not consider your probationary period to \n",
            "have passed until such notification has been received. We reserve the right not to apply our full \n",
            "contractual capability and disciplinary procedures during your probationary period. \n",
            " \n",
            "PLACE OF WORK \n",
            "You will normally be required to work at your home address and on occasion at other locations including \n",
            "the relevant Company Office (as defined by the Company) as required and directed and with appropriate \n",
            "notice, for the proper performance of your duties.  You will not be required to work outside the United \n",
            "Kingdom. \n",
            " \n",
            "HOURS OF WORK  \n",
            "Your normal hours of work are not variable. However, your working pattern may vary. You will be \n",
            "required to work 20 per week over 5 day Monday to Sunday, with a minimum of 4 hours per day, between \n",
            "16:00 – 20:00. Should you work more than seven hours consecutively, you are required to take a 30 \n",
            "minute unpaid break. \n",
            " \n",
            "REMUNERATION  \n",
            "Your wage is currently £10 per hour paid monthly in arrears by BACS as detailed on your pay statement.   \n",
            " \n",
            "Authorised overtime is paid at the rate of  £10 per hour. \n",
            " \n",
            "Please note that if any technical issues (regardless of the root cause) prevents you from working (as \n",
            "defined by your Line Manager) for more than 1 working day, no further payment will be made until the \n",
            "homeworker is able to resume work (i.e. the technical issue is resolved and productive work continues).  \n",
            " \n",
            "TIG will make all reasonable endeavours to facilitate the resolution in a timely fashion taking account of \n",
            "other business priorities and resource availability. \n",
            " \n",
            "BENEFITS \n",
            "Your position has the benefit of an employee assistance programme, details of which are provided \n",
            "separately.  You are also provided with your birthday as a paid days’ leave (if on a day off we will agree an \n",
            "alternative day).  Again, further details are available separately. \n",
            " \n",
            "COLLECTIVE AGREEMENTS \n",
            "\n",
            "\n",
            "Page 2:\n",
            "Form SMT/6 \n",
            " 2 | ©Peninsula Business Services Limited \n",
            "No collective agreements directly affect your terms and conditions of employment. \n",
            " \n",
            "ANNUAL LEAVE AND PUBLIC/BANK HOLIDAYS  \n",
            "Your holiday year begins on 1st January and ends on 31st December each year, during which you will \n",
            "receive a paid holiday entitlement of 80 hours.  Entitlements are pro-rata for part-time employees.  In your \n",
            "first holiday year your entitlement will be proportionate to the amount of time left in the holiday year.   \n",
            " \n",
            "Conditions relating to the taking of annual leave are shown in the Employee Handbook to which you \n",
            "should refer. \n",
            " \n",
            "In addition to the annual holiday entitlement you are allowed the following public/bank holidays each year \n",
            "with pay.  However, because of the nature of our business you may be required to work on any of the \n",
            "public/bank holidays listed below, and it is a condition of employment that you work on these days when \n",
            "required to do so.  If you are required to work on any of these days you will be given an alternative day of \n",
            "leave in lieu. The date when a day off in lieu is to be taken is to be mutually agreed with us. \n",
            " \n",
            "New Year's Day  \n",
            " \n",
            "The last Monday in May \n",
            " \n",
            " \n",
            "Good Friday \n",
            " \n",
            " \n",
            "The last Monday in August \n",
            " \n",
            " \n",
            "Easter Monday  \n",
            " \n",
            "Christmas Day \n",
            " \n",
            " \n",
            "The first Monday in May  \n",
            "Boxing Day \n",
            " \n",
            "In the event of you working on any of the above public/bank holidays, you will be paid at your basic rate \n",
            "for the hours worked.   \n",
            " \n",
            "Entitlements are pro-rata for part-time employees. \n",
            " \n",
            "Your holiday pay will be based on your average earnings over the previous 52 weeks in which wages were \n",
            "payable. \n",
            " \n",
            "In the event of termination of employment holiday entitlement will be calculated as 1/12th of the annual \n",
            "entitlement for each completed month of service during that holiday year and any holidays accrued but \n",
            "not taken will be paid for.  However, in the event of you having taken any holidays in the current holiday \n",
            "year, which have not been accrued pro-rata, then the appropriate payments will be deducted from your \n",
            "final pay. We may require you to take any outstanding annual leave entitlement during your notice period. \n",
            " \n",
            "OTHER PAID LEAVE \n",
            "You are entitled to the following types of paid leave subject to any qualifying criteria and notification \n",
            "requirements: \n",
            " \n",
            "i) \n",
            "Maternity, paternity, adoption, shared parental leave with pay in line with statutory entitlements in \n",
            "place from time to time; \n",
            "ii) \n",
            "Bereavement leave, the length of which is to be determined on an individual basis,  \n",
            "paid at full pay. \n",
            "iii) \n",
            "In addition qualifying parents are entitled to parental bereavement leave in line with statutory \n",
            "entitlements in place from time to time; \n",
            "iv) \n",
            "Birthday leave of one day’s leave on your birthday paid at full pay on completion of 3 months \n",
            "service.  \n",
            " \n",
            "The details included at i, ii, iii, iv above do not form part of your contract of employment and may be \n",
            "amended or withdrawn at any time.  \n",
            " \n",
            "SICK LEAVE, PAY AND CONDITIONS  \n",
            "Any sickness absence taken is paid in line with the current SSP scheme. Any additional payments which \n",
            "may be made will be at our absolute discretion.  \n",
            " \n",
            "Conditions relating to the above are shown in the Employee Handbook to which you should refer. \n",
            " \n",
            "TRAINING \n",
            " \n",
            "\n",
            "\n",
            "Page 3:\n",
            "Form SMT/6 \n",
            " 3 | ©Peninsula Business Services Limited \n",
            "At the commencement of your employment you will receive training for your specific job, and as your \n",
            "employment progresses your skills may be extended to encompass new job activities within the business. \n",
            "It is a condition of your employment that you participate in any training deemed necessary by us for you \n",
            "to reach the required levels of attainment standards. No further training entitlement is offered by the \n",
            "Company.  \n",
            " \n",
            "CAPABILITY AND DISCIPLINARY PROCEDURES \n",
            "The disciplinary rules and procedures that will apply when dealing with capability or disciplinary issues are \n",
            "shown under the headings “Capability Procedures” and “Disciplinary Procedures” in the Employee \n",
            "Handbook to which you should refer.   \n",
            " \n",
            "CAPABILITY/DISCIPLINARY APPEAL PROCEDURE \n",
            "Should you be dissatisfied with any decision to take action or dismiss you on capability/disciplinary \n",
            "grounds, you must apply, either verbally or in writing, to the Senior Director or a Director within five \n",
            "working days of the decision you are complaining against. The Company will exercise discretion in hearing \n",
            "appeals which are submitted outside of this timeframe. Further information can be found in the Employee \n",
            "Handbook under the heading “Capability/Disciplinary Appeal Procedure” to which you should refer. \n",
            " \n",
            "GRIEVANCE PROCEDURE \n",
            "Should you feel aggrieved at any matter relating to your employment, raise a grievance promptly with a \n",
            "Director or your Manager, either verbally or in writing. Whilst there is no deadline by which grievances \n",
            "must be lodged, it may be more difficult for the Company to effectively deal with your grievance if the \n",
            "complaints relate to something which took place a long time ago. Further information can be found in the \n",
            "Employee Handbook. \n",
            " \n",
            "NOTICE OF TERMINATION TO BE GIVEN BY EMPLOYER \n",
            "Under 1 month’s service - Nil. \n",
            "1 month up to successful completion of your probationary period - 1 week. \n",
            "On successful completion of your probationary period but less than 5 years’ service – 1 month. \n",
            "5 years’ service or more - 1 week for each completed year of service to a maximum of 12 weeks after 12 \n",
            "years. \n",
            " \n",
            "NOTICE OF TERMINATION TO BE GIVEN BY EMPLOYEE \n",
            "Under 1 month’s service - Nil. \n",
            "1 month up to successful completion of your probationary period – 1 week. \n",
            "On successful completion of your probationary period – 1 month. \n",
            " \n",
            "PAY IN LIEU OF NOTICE \n",
            "We reserve the contractual right to give pay in lieu of all or any part of the above notice by either party. \n",
            " \n",
            "PENSION AND PENSION SCHEME \n",
            "We operate a contributory pension scheme to which you will be auto-enrolled into (subject to the \n",
            "conditions of the scheme).  Further details are available from your Manager or the Directors. \n",
            " \n",
            "EQUIPMENT \n",
            "You must observe all legal requirements and the Company’s rules regarding the use of computer \n",
            "equipment and data protection.  If you use a computer for work, you are required to follow the \n",
            "Company’s Computer and Email policy, which can be found in the Employee Handbook. You are also \n",
            "required to comply with the Company’s policy in relation to credit and debit cardholder data (PCI DSS \n",
            "Policy) in so far as it affects your role. Computer software must not be used for work unless it is properly \n",
            "licensed and is used only in accordance with the licence. \n",
            " \n",
            "We shall provide you for your sole use in carrying out your duties under this Contract the property and \n",
            "equipment outlined in Home Worker Inventory form. \n",
            " \n",
            "For the avoidance of doubt, the Company Property and Equipment shall remain the property of the \n",
            "Company and you shall not permit use of it by any person other than yourself and authorised \n",
            "representatives of the Company. \n",
            " \n",
            "\n",
            "\n",
            "Page 4:\n",
            "Form SMT/6 \n",
            " 4 | ©Peninsula Business Services Limited \n",
            "We shall service and maintain the Company Property and Equipment, as necessary, at our own expense. \n",
            "You shall be responsible for any damage to the Company Property and Equipment which goes beyond \n",
            "ordinary wear and tear. You are required to report to the Company any such damage or malfunction of \n",
            "the Company Property and Equipment as soon as you become aware of it. \n",
            " \n",
            "The Company Property and Equipment shall be covered under the Company’s insurance policy.  You \n",
            "should take care of Company Property and Equipment and ensure that it is protected from the usual \n",
            "insurable risks with the same vigilance as would be the case in the work place.  Conditions relating to \n",
            "Company Property and Equipment are also found in the Employee Handbook, to which you should refer. \n",
            " \n",
            "You shall not do, cause or permit any act or omission which will invalidate the insurance policy covering \n",
            "the Company Property. \n",
            " \n",
            "You consent to the Company's representatives, at reasonable times and on reasonable notice, entering \n",
            "your home address to: \n",
            " \n",
            "(a) \n",
            "install, inspect, replace, repair, maintain or service the Company Property and Equipment during \n",
            "your employment; \n",
            " \n",
            "(b) \n",
            "carry out health and safety risk assessments of the Company Property and Equipment and your \n",
            "workstation during your employment; and \n",
            " \n",
            "(c) \n",
            "recover the Company Property and Equipment on or after termination of your employment. \n",
            " \n",
            " \n",
            "You are responsible for ensuring the security of confidential information in your home. In particular, you \n",
            "undertake to: \n",
            " \n",
            "(a) \n",
            "encrypt and/or protect by password any confidential information held on your computer; \n",
            " \n",
            "(b) \n",
            "lock your computer terminal whenever it is left unattended; \n",
            " \n",
            "(c) \n",
            "ensure any wireless network used is secure; \n",
            " \n",
            "(d) \n",
            "keep all papers (containing confidential information) in filing cabinets that are locked when not in \n",
            "use; and \n",
            " \n",
            "(e) \n",
            "comply with the Company's data protection policy in force regarding the retention of any type or \n",
            "special category personal data. \n",
            " \n",
            " \n",
            "SIGNATURE: \n",
            "Zoe Bottomley \n",
            "For and on behalf of the Employer \n",
            "DATE: \n",
            "23/09/2022 \n",
            " \n",
            "I acknowledge receipt of this statement and agree that, for the purpose of the Working Time \n",
            "Regulations, any applicable entitlements and provisions constitute a relevant agreement. \n",
            " \n",
            "SIGNATURE: \n",
            "Syed Asad Husain Zaidi \n",
            "Employee \n",
            "DATE: \n",
            " \n",
            " \n",
            "\n",
            "\n"
          ]
        }
      ]
    },
    {
      "cell_type": "code",
      "source": [
        "# Creating an instance of Tokenizer class\n",
        "tokenizer = Tokenizer()"
      ],
      "metadata": {
        "id": "TA5cW8THV8Q2"
      },
      "execution_count": 16,
      "outputs": []
    },
    {
      "cell_type": "code",
      "source": [
        "corpus.append(text)  # Append each page's text to the corpus list"
      ],
      "metadata": {
        "id": "TW4bk9ecVovu"
      },
      "execution_count": 13,
      "outputs": []
    },
    {
      "cell_type": "code",
      "source": [
        "# Combine all texts into a single string and convert to lowercase\n",
        "combined_text = \"\\n\".join(corpus).lower()"
      ],
      "metadata": {
        "id": "GJeZy140Vsy6"
      },
      "execution_count": 14,
      "outputs": []
    },
    {
      "cell_type": "code",
      "source": [
        "# Split the combined lowercase text into lines\n",
        "lowercase_corpus = combined_text.split(\"\\n\")"
      ],
      "metadata": {
        "id": "qx2WZhGcTcxW"
      },
      "execution_count": 15,
      "outputs": []
    },
    {
      "cell_type": "code",
      "source": [
        "# This line fits the tokenizer on the text corpus. The tokenizer \"learns\" the vocabulary from the text by assigning a unique numerical index to each word in the corpus.\n",
        "# The fit_on_texts() method processes the text data and updates the tokenizer's internal vocabulary based on the words it encounters.\n",
        "tokenizer.fit_on_texts(corpus)"
      ],
      "metadata": {
        "id": "aPegj-f7TmK-"
      },
      "execution_count": 17,
      "outputs": []
    },
    {
      "cell_type": "code",
      "source": [
        "# This line calculates the total number of unique words in the vocabulary by adding 1 to the length of the tokenizer's word index.\n",
        "# The +1 is added because word indices start from 1 and not 0.\n",
        "total_words = len(tokenizer.word_index) + 1"
      ],
      "metadata": {
        "id": "eOc-b4B5Ts0O"
      },
      "execution_count": 18,
      "outputs": []
    },
    {
      "cell_type": "code",
      "source": [
        "total_words"
      ],
      "metadata": {
        "colab": {
          "base_uri": "https://localhost:8080/"
        },
        "id": "lZeg-IzuWSQe",
        "outputId": "8df9e270-f59e-461b-a47d-bac82b4b06c8"
      },
      "execution_count": 20,
      "outputs": [
        {
          "output_type": "execute_result",
          "data": {
            "text/plain": [
              "189"
            ]
          },
          "metadata": {},
          "execution_count": 20
        }
      ]
    },
    {
      "cell_type": "code",
      "source": [
        "print(tokenizer.word_index)\n",
        "print(total_words)"
      ],
      "metadata": {
        "colab": {
          "base_uri": "https://localhost:8080/"
        },
        "id": "0oAo3Hf5WmHH",
        "outputId": "c66768c0-b459-4d90-a4fe-28a3f9d5262e"
      },
      "execution_count": 21,
      "outputs": [
        {
          "output_type": "stream",
          "name": "stdout",
          "text": [
            "{'the': 1, 'and': 2, 'company': 3, 'property': 4, 'of': 5, 'equipment': 6, 'you': 7, 'to': 8, 'your': 9, 'any': 10, 'or': 11, 'in': 12, 'shall': 13, 'as': 14, 'for': 15, 'are': 16, 'on': 17, 'be': 18, 'which': 19, 'it': 20, 'policy': 21, 'that': 22, 'is': 23, 'a': 24, 'employment': 25, 'confidential': 26, 'information': 27, 'service': 28, 'maintain': 29, 'at': 30, 'responsible': 31, 'damage': 32, 'insurance': 33, 'should': 34, 'ensure': 35, 'with': 36, 'employee': 37, 'not': 38, \"company's\": 39, 'reasonable': 40, 'home': 41, 'during': 42, 'b': 43, 'c': 44, 'computer': 45, 'data': 46, 'signature': 47, 'date': 48, 'form': 49, 'smt': 50, '6': 51, '4': 52, '©peninsula': 53, 'business': 54, 'services': 55, 'limited': 56, 'we': 57, 'necessary': 58, 'our': 59, 'own': 60, 'expense': 61, 'goes': 62, 'beyond': 63, 'ordinary': 64, 'wear': 65, 'tear': 66, 'required': 67, 'report': 68, 'such': 69, 'malfunction': 70, 'soon': 71, 'become': 72, 'aware': 73, 'covered': 74, 'under': 75, 'company’s': 76, 'take': 77, 'care': 78, 'protected': 79, 'from': 80, 'usual': 81, 'insurable': 82, 'risks': 83, 'same': 84, 'vigilance': 85, 'would': 86, 'case': 87, 'work': 88, 'place': 89, 'conditions': 90, 'relating': 91, 'also': 92, 'found': 93, 'handbook': 94, 'refer': 95, 'do': 96, 'cause': 97, 'permit': 98, 'act': 99, 'omission': 100, 'will': 101, 'invalidate': 102, 'covering': 103, 'consent': 104, 'representatives': 105, 'times': 106, 'notice': 107, 'entering': 108, 'address': 109, 'install': 110, 'inspect': 111, 'replace': 112, 'repair': 113, 'carry': 114, 'out': 115, 'health': 116, 'safety': 117, 'risk': 118, 'assessments': 119, 'workstation': 120, 'recover': 121, 'after': 122, 'termination': 123, 'ensuring': 124, 'security': 125, 'particular': 126, 'undertake': 127, 'encrypt': 128, 'protect': 129, 'by': 130, 'password': 131, 'held': 132, 'lock': 133, 'terminal': 134, 'whenever': 135, 'left': 136, 'unattended': 137, 'wireless': 138, 'network': 139, 'used': 140, 'secure': 141, 'd': 142, 'keep': 143, 'all': 144, 'papers': 145, 'containing': 146, 'filing': 147, 'cabinets': 148, 'locked': 149, 'when': 150, 'use': 151, 'e': 152, 'comply': 153, 'protection': 154, 'force': 155, 'regarding': 156, 'retention': 157, 'type': 158, 'special': 159, 'category': 160, 'personal': 161, 'zoe': 162, 'bottomley': 163, 'behalf': 164, 'employer': 165, '23': 166, '09': 167, '2022': 168, 'i': 169, 'acknowledge': 170, 'receipt': 171, 'this': 172, 'statement': 173, 'agree': 174, 'purpose': 175, 'working': 176, 'time': 177, 'regulations': 178, 'applicable': 179, 'entitlements': 180, 'provisions': 181, 'constitute': 182, 'relevant': 183, 'agreement': 184, 'syed': 185, 'asad': 186, 'husain': 187, 'zaidi': 188}\n",
            "189\n"
          ]
        }
      ]
    },
    {
      "cell_type": "code",
      "source": [
        "# Creating an empty list input_sequences to store sequences for training.\n",
        "# tokenizer.texts_to_sequences([line])[0] converts the current line into a list of token indices using the tokenizer. texts_to_sequences converts a list of texts into a list of sequences of integer tokens.\n",
        "# The inner loop (for i in range(1, len(token_list)):) iterates from the second token to the last token in the token_list.\n",
        "# n_gram_sequence = token_list[:i+1] creates an n-gram sequence by taking the first i+1 tokens from the token_list. This means it's creating sequences of increasing lengths, where the last token is the label.\n",
        "# input_sequences.append(n_gram_sequence) adds each n-gram sequence to the input_sequences list.\n",
        "input_sequences = []\n",
        "for line in corpus:\n",
        "    token_list = tokenizer.texts_to_sequences([line])[0]\n",
        "    for i in range(1, len(token_list)):\n",
        "        n_gram_sequence = token_list[:i+1]\n",
        "        input_sequences.append(n_gram_sequence)"
      ],
      "metadata": {
        "id": "OFRIKHQFWuR2"
      },
      "execution_count": 22,
      "outputs": []
    },
    {
      "cell_type": "code",
      "source": [
        "# max_sequence_len is calculated as the maximum length among all sequences in input_sequences.\n",
        "# This value will be used for padding later.\n",
        "max_sequence_len = max([len(x) for x in input_sequences])"
      ],
      "metadata": {
        "id": "ncFWf_VFWxL0"
      },
      "execution_count": 23,
      "outputs": []
    },
    {
      "cell_type": "code",
      "source": [
        "# pad_sequences function from Keras preprocessing is used to pad the sequences to the same length.\n",
        "# The sequences are padded at the beginning (padding='pre') with zeros to match the maximum sequence length max_sequence_len.\n",
        "input_sequences = np.array(pad_sequences(input_sequences, maxlen=max_sequence_len, padding='pre'))"
      ],
      "metadata": {
        "id": "iXgq8lIMW0Lt"
      },
      "execution_count": 24,
      "outputs": []
    },
    {
      "cell_type": "code",
      "source": [
        "# xs contains all sequences except the last token, which acts as the label for prediction.\n",
        "# Labels contain only the last token of each sequence.\n",
        "xs, labels = input_sequences[:,:-1], input_sequences[:,-1]"
      ],
      "metadata": {
        "id": "G7vTFhKUW2r0"
      },
      "execution_count": 25,
      "outputs": []
    },
    {
      "cell_type": "code",
      "source": [
        "# tf.keras.utils.to_categorical is used to convert the label tokens into one-hot encoded vectors.\n",
        "# num_classes is set to total_words, which is the total number of unique words in the vocabulary.\n",
        "# This prepares the data for training a neural network that predicts the next word in a sequence.\n",
        "ys = tf.keras.utils.to_categorical(labels, num_classes=total_words)"
      ],
      "metadata": {
        "id": "BpIaRanFW4-c"
      },
      "execution_count": 26,
      "outputs": []
    },
    {
      "cell_type": "code",
      "source": [
        "# Predictor\n",
        "xs"
      ],
      "metadata": {
        "colab": {
          "base_uri": "https://localhost:8080/"
        },
        "id": "DXUs9Wo1XBso",
        "outputId": "c54e9876-4152-4d05-a69d-8f089322e5fd"
      },
      "execution_count": 27,
      "outputs": [
        {
          "output_type": "execute_result",
          "data": {
            "text/plain": [
              "array([[  0,   0,   0, ...,   0,   0,  49],\n",
              "       [  0,   0,   0, ...,   0,  49,  50],\n",
              "       [  0,   0,   0, ...,  49,  50,  51],\n",
              "       ...,\n",
              "       [  0,   0,  49, ..., 185, 186, 187],\n",
              "       [  0,  49,  50, ..., 186, 187, 188],\n",
              "       [ 49,  50,  51, ..., 187, 188,  37]], dtype=int32)"
            ]
          },
          "metadata": {},
          "execution_count": 27
        }
      ]
    },
    {
      "cell_type": "code",
      "source": [
        "# Printing out the entire dictionary that maps words to their corresponding numerical indices in the tokenizer's vocabulary.\n",
        "# This dictionary was generated when we used the tokenizer.fit_on_texts() method earlier in the code.\n",
        "print(tokenizer.word_index)"
      ],
      "metadata": {
        "colab": {
          "base_uri": "https://localhost:8080/"
        },
        "id": "Cois5ppQXIu9",
        "outputId": "b742cfb4-5f75-443b-9646-8b3842342e5b"
      },
      "execution_count": 28,
      "outputs": [
        {
          "output_type": "stream",
          "name": "stdout",
          "text": [
            "{'the': 1, 'and': 2, 'company': 3, 'property': 4, 'of': 5, 'equipment': 6, 'you': 7, 'to': 8, 'your': 9, 'any': 10, 'or': 11, 'in': 12, 'shall': 13, 'as': 14, 'for': 15, 'are': 16, 'on': 17, 'be': 18, 'which': 19, 'it': 20, 'policy': 21, 'that': 22, 'is': 23, 'a': 24, 'employment': 25, 'confidential': 26, 'information': 27, 'service': 28, 'maintain': 29, 'at': 30, 'responsible': 31, 'damage': 32, 'insurance': 33, 'should': 34, 'ensure': 35, 'with': 36, 'employee': 37, 'not': 38, \"company's\": 39, 'reasonable': 40, 'home': 41, 'during': 42, 'b': 43, 'c': 44, 'computer': 45, 'data': 46, 'signature': 47, 'date': 48, 'form': 49, 'smt': 50, '6': 51, '4': 52, '©peninsula': 53, 'business': 54, 'services': 55, 'limited': 56, 'we': 57, 'necessary': 58, 'our': 59, 'own': 60, 'expense': 61, 'goes': 62, 'beyond': 63, 'ordinary': 64, 'wear': 65, 'tear': 66, 'required': 67, 'report': 68, 'such': 69, 'malfunction': 70, 'soon': 71, 'become': 72, 'aware': 73, 'covered': 74, 'under': 75, 'company’s': 76, 'take': 77, 'care': 78, 'protected': 79, 'from': 80, 'usual': 81, 'insurable': 82, 'risks': 83, 'same': 84, 'vigilance': 85, 'would': 86, 'case': 87, 'work': 88, 'place': 89, 'conditions': 90, 'relating': 91, 'also': 92, 'found': 93, 'handbook': 94, 'refer': 95, 'do': 96, 'cause': 97, 'permit': 98, 'act': 99, 'omission': 100, 'will': 101, 'invalidate': 102, 'covering': 103, 'consent': 104, 'representatives': 105, 'times': 106, 'notice': 107, 'entering': 108, 'address': 109, 'install': 110, 'inspect': 111, 'replace': 112, 'repair': 113, 'carry': 114, 'out': 115, 'health': 116, 'safety': 117, 'risk': 118, 'assessments': 119, 'workstation': 120, 'recover': 121, 'after': 122, 'termination': 123, 'ensuring': 124, 'security': 125, 'particular': 126, 'undertake': 127, 'encrypt': 128, 'protect': 129, 'by': 130, 'password': 131, 'held': 132, 'lock': 133, 'terminal': 134, 'whenever': 135, 'left': 136, 'unattended': 137, 'wireless': 138, 'network': 139, 'used': 140, 'secure': 141, 'd': 142, 'keep': 143, 'all': 144, 'papers': 145, 'containing': 146, 'filing': 147, 'cabinets': 148, 'locked': 149, 'when': 150, 'use': 151, 'e': 152, 'comply': 153, 'protection': 154, 'force': 155, 'regarding': 156, 'retention': 157, 'type': 158, 'special': 159, 'category': 160, 'personal': 161, 'zoe': 162, 'bottomley': 163, 'behalf': 164, 'employer': 165, '23': 166, '09': 167, '2022': 168, 'i': 169, 'acknowledge': 170, 'receipt': 171, 'this': 172, 'statement': 173, 'agree': 174, 'purpose': 175, 'working': 176, 'time': 177, 'regulations': 178, 'applicable': 179, 'entitlements': 180, 'provisions': 181, 'constitute': 182, 'relevant': 183, 'agreement': 184, 'syed': 185, 'asad': 186, 'husain': 187, 'zaidi': 188}\n"
          ]
        }
      ]
    },
    {
      "cell_type": "code",
      "source": [
        "# Creating a sequential neural network model using Keras.\n",
        "# A sequential model is a linear stack of layers, where layers can be added one by one.\n",
        "model = Sequential()"
      ],
      "metadata": {
        "id": "yLXWc416XSKp"
      },
      "execution_count": 29,
      "outputs": []
    },
    {
      "cell_type": "code",
      "source": [
        "# model.add(Embedding(total_words, 100, input_length=max_sequence_len-1)): This line adds an embedding layer to the model.\n",
        "# The Embedding layer is used to convert integer-encoded words into dense vectors of fixed size. It maps the word indices to dense vectors of dimensionality 100.\n",
        "# The total_words parameter is the total number of unique words in the vocabulary.\n",
        "# input_length is set to max_sequence_len-1, which is the length of each input sequence minus one (since the last word is the label).\n",
        "model.add(Embedding(total_words, 100, input_length=max_sequence_len-1))"
      ],
      "metadata": {
        "id": "Kdbrr_k4XV6p"
      },
      "execution_count": 30,
      "outputs": []
    },
    {
      "cell_type": "code",
      "source": [
        "# model.add(Bidirectional(LSTM(150))): This line adds a bidirectional LSTM layer to the model.\n",
        "# A bidirectional LSTM processes input sequences in both forward and backward directions, which can capture more context. The 150 indicates that the LSTM layer has 150 units (also known as cells or neurons).\n",
        "model.add(Bidirectional(LSTM(150)))"
      ],
      "metadata": {
        "id": "wpYsRdI3XZL4"
      },
      "execution_count": 31,
      "outputs": []
    },
    {
      "cell_type": "code",
      "source": [
        "# model.add(Dense(total_words, activation='softmax')): This line adds a fully connected dense layer to the model. The output of this layer has total_words neurons, corresponding to the number of unique words in the vocabulary.\n",
        "# The softmax activation function is used to convert the outputs into a probability distribution over the vocabulary, allowing the model to predict the next word.\n",
        "model.add(Dense(total_words, activation='softmax'))"
      ],
      "metadata": {
        "id": "LGAnsUnaXc4e"
      },
      "execution_count": 32,
      "outputs": []
    },
    {
      "cell_type": "code",
      "source": [
        "# These lines define the optimizer and compile the model. The Adam optimizer is used with a learning rate of 0.01.\n",
        "# The categorical_crossentropy loss function is commonly used for multiclass classification problems. The metrics argument specifies that we want to track the accuracy during training.\n",
        "adam = Adam(learning_rate=0.01)\n",
        "model.compile(loss='categorical_crossentropy', optimizer=adam, metrics=['accuracy'])"
      ],
      "metadata": {
        "id": "kwWj7GrwXf6l"
      },
      "execution_count": 33,
      "outputs": []
    },
    {
      "cell_type": "code",
      "source": [
        "# model.fit(xs, ys, epochs=100, verbose=1): This line trains the model using the input sequences (xs) and the one-hot encoded labels (ys).\n",
        "# The epochs parameter indicates the number of training iterations.\n",
        "# verbose=1 prints progress updates during training.\n",
        "history = model.fit(xs, ys, epochs=100, verbose=1)"
      ],
      "metadata": {
        "colab": {
          "base_uri": "https://localhost:8080/"
        },
        "id": "tkQHP1GHXjUx",
        "outputId": "0992f14d-5fd8-44b8-f9b0-1798e103075b"
      },
      "execution_count": 34,
      "outputs": [
        {
          "output_type": "stream",
          "name": "stdout",
          "text": [
            "Epoch 1/100\n",
            "12/12 [==============================] - 26s 2s/step - loss: 5.1865 - accuracy: 0.0249\n",
            "Epoch 2/100\n",
            "12/12 [==============================] - 18s 1s/step - loss: 6.5889 - accuracy: 0.0166\n",
            "Epoch 3/100\n",
            "12/12 [==============================] - 19s 2s/step - loss: 5.6579 - accuracy: 0.0416\n",
            "Epoch 4/100\n",
            "12/12 [==============================] - 22s 2s/step - loss: 5.1556 - accuracy: 0.0388\n",
            "Epoch 5/100\n",
            "12/12 [==============================] - 18s 1s/step - loss: 4.8894 - accuracy: 0.0526\n",
            "Epoch 6/100\n",
            "12/12 [==============================] - 18s 2s/step - loss: 4.8061 - accuracy: 0.0471\n",
            "Epoch 7/100\n",
            "12/12 [==============================] - 20s 2s/step - loss: 4.6926 - accuracy: 0.0637\n",
            "Epoch 8/100\n",
            "12/12 [==============================] - 18s 2s/step - loss: 4.7868 - accuracy: 0.0499\n",
            "Epoch 9/100\n",
            "12/12 [==============================] - 18s 1s/step - loss: 4.7104 - accuracy: 0.0720\n",
            "Epoch 10/100\n",
            "12/12 [==============================] - 20s 2s/step - loss: 4.3835 - accuracy: 0.0970\n",
            "Epoch 11/100\n",
            "12/12 [==============================] - 18s 2s/step - loss: 4.1151 - accuracy: 0.1219\n",
            "Epoch 12/100\n",
            "12/12 [==============================] - 18s 1s/step - loss: 3.8731 - accuracy: 0.1496\n",
            "Epoch 13/100\n",
            "12/12 [==============================] - 18s 2s/step - loss: 3.5234 - accuracy: 0.2355\n",
            "Epoch 14/100\n",
            "12/12 [==============================] - 20s 2s/step - loss: 3.1190 - accuracy: 0.2604\n",
            "Epoch 15/100\n",
            "12/12 [==============================] - 18s 1s/step - loss: 2.7488 - accuracy: 0.3463\n",
            "Epoch 16/100\n",
            "12/12 [==============================] - 18s 1s/step - loss: 2.3799 - accuracy: 0.4349\n",
            "Epoch 17/100\n",
            "12/12 [==============================] - 20s 2s/step - loss: 2.0630 - accuracy: 0.5457\n",
            "Epoch 18/100\n",
            "12/12 [==============================] - 18s 1s/step - loss: 1.7205 - accuracy: 0.6039\n",
            "Epoch 19/100\n",
            "12/12 [==============================] - 18s 1s/step - loss: 1.3510 - accuracy: 0.7175\n",
            "Epoch 20/100\n",
            "12/12 [==============================] - 20s 2s/step - loss: 1.1099 - accuracy: 0.7618\n",
            "Epoch 21/100\n",
            "12/12 [==============================] - 18s 1s/step - loss: 0.8945 - accuracy: 0.8116\n",
            "Epoch 22/100\n",
            "12/12 [==============================] - 18s 1s/step - loss: 0.7148 - accuracy: 0.8587\n",
            "Epoch 23/100\n",
            "12/12 [==============================] - 19s 2s/step - loss: 0.5642 - accuracy: 0.9003\n",
            "Epoch 24/100\n",
            "12/12 [==============================] - 19s 2s/step - loss: 0.4456 - accuracy: 0.9197\n",
            "Epoch 25/100\n",
            "12/12 [==============================] - 18s 2s/step - loss: 0.3564 - accuracy: 0.9474\n",
            "Epoch 26/100\n",
            "12/12 [==============================] - 18s 2s/step - loss: 0.2856 - accuracy: 0.9751\n",
            "Epoch 27/100\n",
            "12/12 [==============================] - 20s 2s/step - loss: 0.2444 - accuracy: 0.9640\n",
            "Epoch 28/100\n",
            "12/12 [==============================] - 18s 1s/step - loss: 0.1911 - accuracy: 0.9778\n",
            "Epoch 29/100\n",
            "12/12 [==============================] - 18s 1s/step - loss: 0.1643 - accuracy: 0.9778\n",
            "Epoch 30/100\n",
            "12/12 [==============================] - 20s 2s/step - loss: 0.1312 - accuracy: 0.9861\n",
            "Epoch 31/100\n",
            "12/12 [==============================] - 18s 1s/step - loss: 0.1120 - accuracy: 0.9917\n",
            "Epoch 32/100\n",
            "12/12 [==============================] - 18s 1s/step - loss: 0.1034 - accuracy: 0.9889\n",
            "Epoch 33/100\n",
            "12/12 [==============================] - 19s 2s/step - loss: 0.0904 - accuracy: 0.9889\n",
            "Epoch 34/100\n",
            "12/12 [==============================] - 18s 1s/step - loss: 0.0784 - accuracy: 0.9889\n",
            "Epoch 35/100\n",
            "12/12 [==============================] - 18s 1s/step - loss: 0.0663 - accuracy: 0.9972\n",
            "Epoch 36/100\n",
            "12/12 [==============================] - 18s 1s/step - loss: 0.0616 - accuracy: 0.9889\n",
            "Epoch 37/100\n",
            "12/12 [==============================] - 20s 2s/step - loss: 0.0754 - accuracy: 0.9889\n",
            "Epoch 38/100\n",
            "12/12 [==============================] - 18s 1s/step - loss: 0.0622 - accuracy: 0.9917\n",
            "Epoch 39/100\n",
            "12/12 [==============================] - 18s 1s/step - loss: 0.0485 - accuracy: 0.9972\n",
            "Epoch 40/100\n",
            "12/12 [==============================] - 20s 2s/step - loss: 0.0445 - accuracy: 0.9972\n",
            "Epoch 41/100\n",
            "12/12 [==============================] - 18s 1s/step - loss: 0.0370 - accuracy: 1.0000\n",
            "Epoch 42/100\n",
            "12/12 [==============================] - 18s 1s/step - loss: 0.0352 - accuracy: 1.0000\n",
            "Epoch 43/100\n",
            "12/12 [==============================] - 18s 2s/step - loss: 0.0317 - accuracy: 1.0000\n",
            "Epoch 44/100\n",
            "12/12 [==============================] - 19s 2s/step - loss: 0.0294 - accuracy: 1.0000\n",
            "Epoch 45/100\n",
            "12/12 [==============================] - 18s 2s/step - loss: 0.0260 - accuracy: 1.0000\n",
            "Epoch 46/100\n",
            "12/12 [==============================] - 19s 2s/step - loss: 0.0259 - accuracy: 0.9972\n",
            "Epoch 47/100\n",
            "12/12 [==============================] - 20s 2s/step - loss: 0.0229 - accuracy: 1.0000\n",
            "Epoch 48/100\n",
            "12/12 [==============================] - 18s 2s/step - loss: 0.0204 - accuracy: 1.0000\n",
            "Epoch 49/100\n",
            "12/12 [==============================] - 18s 2s/step - loss: 0.0188 - accuracy: 1.0000\n",
            "Epoch 50/100\n",
            "12/12 [==============================] - 20s 2s/step - loss: 0.0177 - accuracy: 1.0000\n",
            "Epoch 51/100\n",
            "12/12 [==============================] - 18s 2s/step - loss: 0.0185 - accuracy: 1.0000\n",
            "Epoch 52/100\n",
            "12/12 [==============================] - 18s 2s/step - loss: 0.0171 - accuracy: 1.0000\n",
            "Epoch 53/100\n",
            "12/12 [==============================] - 20s 2s/step - loss: 0.0162 - accuracy: 1.0000\n",
            "Epoch 54/100\n",
            "12/12 [==============================] - 18s 1s/step - loss: 0.0149 - accuracy: 1.0000\n",
            "Epoch 55/100\n",
            "12/12 [==============================] - 18s 1s/step - loss: 0.0137 - accuracy: 1.0000\n",
            "Epoch 56/100\n",
            "12/12 [==============================] - 19s 2s/step - loss: 0.0129 - accuracy: 1.0000\n",
            "Epoch 57/100\n",
            "12/12 [==============================] - 19s 1s/step - loss: 0.0124 - accuracy: 1.0000\n",
            "Epoch 58/100\n",
            "12/12 [==============================] - 17s 1s/step - loss: 0.0117 - accuracy: 1.0000\n",
            "Epoch 59/100\n",
            "12/12 [==============================] - 18s 1s/step - loss: 0.0114 - accuracy: 1.0000\n",
            "Epoch 60/100\n",
            "12/12 [==============================] - 20s 2s/step - loss: 0.0110 - accuracy: 1.0000\n",
            "Epoch 61/100\n",
            "12/12 [==============================] - 18s 1s/step - loss: 0.0105 - accuracy: 1.0000\n",
            "Epoch 62/100\n",
            "12/12 [==============================] - 18s 1s/step - loss: 0.0101 - accuracy: 1.0000\n",
            "Epoch 63/100\n",
            "12/12 [==============================] - 20s 2s/step - loss: 0.0097 - accuracy: 1.0000\n",
            "Epoch 64/100\n",
            "12/12 [==============================] - 18s 2s/step - loss: 0.0093 - accuracy: 1.0000\n",
            "Epoch 65/100\n",
            "12/12 [==============================] - 18s 2s/step - loss: 0.0091 - accuracy: 1.0000\n",
            "Epoch 66/100\n",
            "12/12 [==============================] - 19s 2s/step - loss: 0.0086 - accuracy: 1.0000\n",
            "Epoch 67/100\n",
            "12/12 [==============================] - 19s 2s/step - loss: 0.0083 - accuracy: 1.0000\n",
            "Epoch 68/100\n",
            "12/12 [==============================] - 18s 1s/step - loss: 0.0089 - accuracy: 1.0000\n",
            "Epoch 69/100\n",
            "12/12 [==============================] - 18s 2s/step - loss: 0.0079 - accuracy: 1.0000\n",
            "Epoch 70/100\n",
            "12/12 [==============================] - 20s 2s/step - loss: 0.0077 - accuracy: 1.0000\n",
            "Epoch 71/100\n",
            "12/12 [==============================] - 18s 2s/step - loss: 0.0073 - accuracy: 1.0000\n",
            "Epoch 72/100\n",
            "12/12 [==============================] - 18s 1s/step - loss: 0.0071 - accuracy: 1.0000\n",
            "Epoch 73/100\n",
            "12/12 [==============================] - 20s 2s/step - loss: 0.0068 - accuracy: 1.0000\n",
            "Epoch 74/100\n",
            "12/12 [==============================] - 18s 2s/step - loss: 0.0067 - accuracy: 1.0000\n",
            "Epoch 75/100\n",
            "12/12 [==============================] - 18s 2s/step - loss: 0.0065 - accuracy: 1.0000\n",
            "Epoch 76/100\n",
            "12/12 [==============================] - 20s 2s/step - loss: 0.0064 - accuracy: 1.0000\n",
            "Epoch 77/100\n",
            "12/12 [==============================] - 17s 1s/step - loss: 0.0062 - accuracy: 1.0000\n",
            "Epoch 78/100\n",
            "12/12 [==============================] - 17s 1s/step - loss: 0.0068 - accuracy: 1.0000\n",
            "Epoch 79/100\n",
            "12/12 [==============================] - 17s 1s/step - loss: 0.0058 - accuracy: 1.0000\n",
            "Epoch 80/100\n",
            "12/12 [==============================] - 20s 2s/step - loss: 0.0058 - accuracy: 1.0000\n",
            "Epoch 81/100\n",
            "12/12 [==============================] - 18s 1s/step - loss: 0.0055 - accuracy: 1.0000\n",
            "Epoch 82/100\n",
            "12/12 [==============================] - 17s 1s/step - loss: 0.0053 - accuracy: 1.0000\n",
            "Epoch 83/100\n",
            "12/12 [==============================] - 19s 2s/step - loss: 0.0052 - accuracy: 1.0000\n",
            "Epoch 84/100\n",
            "12/12 [==============================] - 18s 1s/step - loss: 0.0050 - accuracy: 1.0000\n",
            "Epoch 85/100\n",
            "12/12 [==============================] - 18s 1s/step - loss: 0.0049 - accuracy: 1.0000\n",
            "Epoch 86/100\n",
            "12/12 [==============================] - 18s 1s/step - loss: 0.0048 - accuracy: 1.0000\n",
            "Epoch 87/100\n",
            "12/12 [==============================] - 20s 2s/step - loss: 0.0047 - accuracy: 1.0000\n",
            "Epoch 88/100\n",
            "12/12 [==============================] - 18s 1s/step - loss: 0.0046 - accuracy: 1.0000\n",
            "Epoch 89/100\n",
            "12/12 [==============================] - 18s 1s/step - loss: 0.0045 - accuracy: 1.0000\n",
            "Epoch 90/100\n",
            "12/12 [==============================] - 21s 2s/step - loss: 0.0043 - accuracy: 1.0000\n",
            "Epoch 91/100\n",
            "12/12 [==============================] - 17s 1s/step - loss: 0.0043 - accuracy: 1.0000\n",
            "Epoch 92/100\n",
            "12/12 [==============================] - 18s 1s/step - loss: 0.0042 - accuracy: 1.0000\n",
            "Epoch 93/100\n",
            "12/12 [==============================] - 18s 1s/step - loss: 0.0041 - accuracy: 1.0000\n",
            "Epoch 94/100\n",
            "12/12 [==============================] - 19s 2s/step - loss: 0.0040 - accuracy: 1.0000\n",
            "Epoch 95/100\n",
            "12/12 [==============================] - 17s 1s/step - loss: 0.0039 - accuracy: 1.0000\n",
            "Epoch 96/100\n",
            "12/12 [==============================] - 17s 1s/step - loss: 0.0039 - accuracy: 1.0000\n",
            "Epoch 97/100\n",
            "12/12 [==============================] - 19s 2s/step - loss: 0.0038 - accuracy: 1.0000\n",
            "Epoch 98/100\n",
            "12/12 [==============================] - 18s 1s/step - loss: 0.0036 - accuracy: 1.0000\n",
            "Epoch 99/100\n",
            "12/12 [==============================] - 17s 1s/step - loss: 0.0036 - accuracy: 1.0000\n",
            "Epoch 100/100\n",
            "12/12 [==============================] - 17s 1s/step - loss: 0.0035 - accuracy: 1.0000\n"
          ]
        }
      ]
    },
    {
      "cell_type": "code",
      "source": [
        "#print model.summary()\n",
        "print(model)"
      ],
      "metadata": {
        "colab": {
          "base_uri": "https://localhost:8080/"
        },
        "id": "piW_YFgUd5J_",
        "outputId": "e0b6ba94-1ebf-4c05-8067-0e9bd6a51488"
      },
      "execution_count": 35,
      "outputs": [
        {
          "output_type": "stream",
          "name": "stdout",
          "text": [
            "<keras.engine.sequential.Sequential object at 0x78fd12f43fd0>\n"
          ]
        }
      ]
    },
    {
      "cell_type": "code",
      "source": [
        "# Plotting the learning rate on each epoch\n",
        "import matplotlib.pyplot as plt\n",
        "\n",
        "def plot_graphs(history, string):\n",
        "    plt.plot(history.history[string])\n",
        "    plt.xlabel(\"Epochs\")\n",
        "    plt.ylabel(string)\n",
        "    plt.show()"
      ],
      "metadata": {
        "id": "2wiIqvxzer8f"
      },
      "execution_count": 36,
      "outputs": []
    },
    {
      "cell_type": "code",
      "source": [
        "# Epochs vs Accuracy\n",
        "plot_graphs(history, 'accuracy')"
      ],
      "metadata": {
        "colab": {
          "base_uri": "https://localhost:8080/",
          "height": 449
        },
        "id": "yjxTtECFexk-",
        "outputId": "697b0dc7-3999-4061-b6e0-c8761a8b3e1b"
      },
      "execution_count": 37,
      "outputs": [
        {
          "output_type": "display_data",
          "data": {
            "text/plain": [
              "<Figure size 640x480 with 1 Axes>"
            ],
            "image/png": "[encoded data removed]"
          },
          "metadata": {}
        }
      ]
    },
    {
      "cell_type": "code",
      "source": [
        "# This sets the initial seed text from where we want to start generating poetry from.\n",
        "seed_text = \"We shall service and maintain the Company Property and Equipment\""
      ],
      "metadata": {
        "id": "jeBLwF6de18H"
      },
      "execution_count": 38,
      "outputs": []
    },
    {
      "cell_type": "code",
      "source": [
        "# This defines the number of words we want to generate in addition to the seed text.\n",
        "next_words = 100"
      ],
      "metadata": {
        "id": "QoJKBPxUe7p5"
      },
      "execution_count": 39,
      "outputs": []
    },
    {
      "cell_type": "code",
      "source": [
        "# The outer for loop iterates for the specified number of next_words to generate text.\n",
        "for _ in range(next_words):\n",
        "# This converts the current seed_text into a list of token indices using the tokenizer.\n",
        "    token_list = tokenizer.texts_to_sequences([seed_text])[0]\n",
        "\n",
        "# This pads the token_list to match the input length that the model expects. The length is set to max_sequence_len-1\n",
        "    token_list = pad_sequences([token_list], maxlen=max_sequence_len-1, padding='pre')\n",
        "\n",
        "# This line uses the trained model to predict the next word's index in the sequence based on the provided seed text. The argmax function is used to find the index with the highest predicted probability.\n",
        "    predicted = np.argmax(model.predict(token_list), axis=-1)\n",
        "    output_word = \"\"\n",
        "\n",
        "# The inner loop iterates through the tokenizer's word_index to find the word associated with the predicted index.\n",
        "    for word, index in tokenizer.word_index.items():\n",
        "        if index == predicted:\n",
        "            output_word = word\n",
        "            break\n",
        "\n",
        "# Appending the predicted word to the seed_text, effectively extending the seed for generating the next word\n",
        "    seed_text += \" \" + output_word\n",
        "print(seed_text)"
      ],
      "metadata": {
        "colab": {
          "base_uri": "https://localhost:8080/"
        },
        "id": "T3I_IfXbe_wn",
        "outputId": "812dac37-d420-4f32-9da2-f36421263a07"
      },
      "execution_count": 40,
      "outputs": [
        {
          "output_type": "stream",
          "name": "stdout",
          "text": [
            "1/1 [==============================] - 1s 885ms/step\n",
            "1/1 [==============================] - 0s 85ms/step\n",
            "1/1 [==============================] - 0s 72ms/step\n",
            "1/1 [==============================] - 0s 73ms/step\n",
            "1/1 [==============================] - 0s 82ms/step\n",
            "1/1 [==============================] - 0s 86ms/step\n",
            "1/1 [==============================] - 0s 74ms/step\n",
            "1/1 [==============================] - 0s 72ms/step\n",
            "1/1 [==============================] - 0s 75ms/step\n",
            "1/1 [==============================] - 0s 82ms/step\n",
            "1/1 [==============================] - 0s 72ms/step\n",
            "1/1 [==============================] - 0s 77ms/step\n",
            "1/1 [==============================] - 0s 83ms/step\n",
            "1/1 [==============================] - 0s 76ms/step\n",
            "1/1 [==============================] - 0s 96ms/step\n",
            "1/1 [==============================] - 0s 78ms/step\n",
            "1/1 [==============================] - 0s 78ms/step\n",
            "1/1 [==============================] - 0s 76ms/step\n",
            "1/1 [==============================] - 0s 73ms/step\n",
            "1/1 [==============================] - 0s 75ms/step\n",
            "1/1 [==============================] - 0s 74ms/step\n",
            "1/1 [==============================] - 0s 73ms/step\n",
            "1/1 [==============================] - 0s 72ms/step\n",
            "1/1 [==============================] - 0s 78ms/step\n",
            "1/1 [==============================] - 0s 71ms/step\n",
            "1/1 [==============================] - 0s 76ms/step\n",
            "1/1 [==============================] - 0s 79ms/step\n",
            "1/1 [==============================] - 0s 79ms/step\n",
            "1/1 [==============================] - 0s 80ms/step\n",
            "1/1 [==============================] - 0s 82ms/step\n",
            "1/1 [==============================] - 0s 73ms/step\n",
            "1/1 [==============================] - 0s 74ms/step\n",
            "1/1 [==============================] - 0s 72ms/step\n",
            "1/1 [==============================] - 0s 76ms/step\n",
            "1/1 [==============================] - 0s 71ms/step\n",
            "1/1 [==============================] - 0s 77ms/step\n",
            "1/1 [==============================] - 0s 75ms/step\n",
            "1/1 [==============================] - 0s 78ms/step\n",
            "1/1 [==============================] - 0s 73ms/step\n",
            "1/1 [==============================] - 0s 84ms/step\n",
            "1/1 [==============================] - 0s 73ms/step\n",
            "1/1 [==============================] - 0s 73ms/step\n",
            "1/1 [==============================] - 0s 81ms/step\n",
            "1/1 [==============================] - 0s 77ms/step\n",
            "1/1 [==============================] - 0s 79ms/step\n",
            "1/1 [==============================] - 0s 76ms/step\n",
            "1/1 [==============================] - 0s 111ms/step\n",
            "1/1 [==============================] - 0s 119ms/step\n",
            "1/1 [==============================] - 0s 117ms/step\n",
            "1/1 [==============================] - 0s 122ms/step\n",
            "1/1 [==============================] - 0s 120ms/step\n",
            "1/1 [==============================] - 0s 117ms/step\n",
            "1/1 [==============================] - 0s 118ms/step\n",
            "1/1 [==============================] - 0s 116ms/step\n",
            "1/1 [==============================] - 0s 129ms/step\n",
            "1/1 [==============================] - 0s 139ms/step\n",
            "1/1 [==============================] - 0s 133ms/step\n",
            "1/1 [==============================] - 0s 118ms/step\n",
            "1/1 [==============================] - 0s 115ms/step\n",
            "1/1 [==============================] - 0s 127ms/step\n",
            "1/1 [==============================] - 0s 108ms/step\n",
            "1/1 [==============================] - 0s 115ms/step\n",
            "1/1 [==============================] - 0s 120ms/step\n",
            "1/1 [==============================] - 0s 107ms/step\n",
            "1/1 [==============================] - 0s 117ms/step\n",
            "1/1 [==============================] - 0s 303ms/step\n",
            "1/1 [==============================] - 0s 141ms/step\n",
            "1/1 [==============================] - 0s 77ms/step\n",
            "1/1 [==============================] - 0s 74ms/step\n",
            "1/1 [==============================] - 0s 71ms/step\n",
            "1/1 [==============================] - 0s 87ms/step\n",
            "1/1 [==============================] - 0s 75ms/step\n",
            "1/1 [==============================] - 0s 73ms/step\n",
            "1/1 [==============================] - 0s 76ms/step\n",
            "1/1 [==============================] - 0s 73ms/step\n",
            "1/1 [==============================] - 0s 75ms/step\n",
            "1/1 [==============================] - 0s 78ms/step\n",
            "1/1 [==============================] - 0s 76ms/step\n",
            "1/1 [==============================] - 0s 74ms/step\n",
            "1/1 [==============================] - 0s 70ms/step\n",
            "1/1 [==============================] - 0s 74ms/step\n",
            "1/1 [==============================] - 0s 75ms/step\n",
            "1/1 [==============================] - 0s 76ms/step\n",
            "1/1 [==============================] - 0s 87ms/step\n",
            "1/1 [==============================] - 0s 79ms/step\n",
            "1/1 [==============================] - 0s 73ms/step\n",
            "1/1 [==============================] - 0s 77ms/step\n",
            "1/1 [==============================] - 0s 80ms/step\n",
            "1/1 [==============================] - 0s 70ms/step\n",
            "1/1 [==============================] - 0s 71ms/step\n",
            "1/1 [==============================] - 0s 75ms/step\n",
            "1/1 [==============================] - 0s 78ms/step\n",
            "1/1 [==============================] - 0s 74ms/step\n",
            "1/1 [==============================] - 0s 80ms/step\n",
            "1/1 [==============================] - 0s 76ms/step\n",
            "1/1 [==============================] - 0s 82ms/step\n",
            "1/1 [==============================] - 0s 79ms/step\n",
            "1/1 [==============================] - 0s 72ms/step\n",
            "1/1 [==============================] - 0s 71ms/step\n",
            "1/1 [==============================] - 0s 76ms/step\n",
            "We shall service and maintain the Company Property and Equipment as soon as you become aware of it the company property and equipment shall be covered under the company’s insurance policy you should take care of company property and equipment and ensure that it is protected from the usual insurable risks with the same vigilance as would be the case in the work place conditions relating to company property and equipment are also found in the employee handbook to which you should refer you shall not do cause or permit any act or omission which will invalidate the insurance policy covering the company property you consent to the company's representatives\n"
          ]
        }
      ]
    }
  ]
}